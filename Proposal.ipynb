{
 "cells": [
  {
   "cell_type": "markdown",
   "id": "c8f13e61-f78b-4003-bc24-c25a0e29de02",
   "metadata": {},
   "source": [
    "(insert introduction and all that)"
   ]
  },
  {
   "cell_type": "code",
   "execution_count": 3,
   "id": "80e762c5-d94d-4549-a68c-c70cd932f63b",
   "metadata": {},
   "outputs": [
    {
     "name": "stderr",
     "output_type": "stream",
     "text": [
      "── \u001b[1mAttaching packages\u001b[22m ─────────────────────────────────────── tidyverse 1.3.1 ──\n",
      "\n",
      "\u001b[32m✔\u001b[39m \u001b[34mggplot2\u001b[39m 3.3.6     \u001b[32m✔\u001b[39m \u001b[34mpurrr  \u001b[39m 0.3.4\n",
      "\u001b[32m✔\u001b[39m \u001b[34mtibble \u001b[39m 3.1.7     \u001b[32m✔\u001b[39m \u001b[34mdplyr  \u001b[39m 1.0.9\n",
      "\u001b[32m✔\u001b[39m \u001b[34mtidyr  \u001b[39m 1.2.0     \u001b[32m✔\u001b[39m \u001b[34mstringr\u001b[39m 1.4.0\n",
      "\u001b[32m✔\u001b[39m \u001b[34mreadr  \u001b[39m 2.1.2     \u001b[32m✔\u001b[39m \u001b[34mforcats\u001b[39m 0.5.1\n",
      "\n",
      "── \u001b[1mConflicts\u001b[22m ────────────────────────────────────────── tidyverse_conflicts() ──\n",
      "\u001b[31m✖\u001b[39m \u001b[34mdplyr\u001b[39m::\u001b[32mfilter()\u001b[39m masks \u001b[34mstats\u001b[39m::filter()\n",
      "\u001b[31m✖\u001b[39m \u001b[34mdplyr\u001b[39m::\u001b[32mlag()\u001b[39m    masks \u001b[34mstats\u001b[39m::lag()\n",
      "\n"
     ]
    }
   ],
   "source": [
    "library(tidyverse)"
   ]
  },
  {
   "cell_type": "code",
   "execution_count": 16,
   "id": "dde00028-1a8b-4f5d-9b21-c34a3c392bb7",
   "metadata": {},
   "outputs": [
    {
     "name": "stdout",
     "output_type": "stream",
     "text": [
      "Rows: 17,898\n",
      "Columns: 9\n",
      "$ integrated_profile_mean            \u001b[3m\u001b[90m<dbl>\u001b[39m\u001b[23m 140.56250, 102.50781, 103.01562, 13…\n",
      "$ integrated_profile_std_dev         \u001b[3m\u001b[90m<dbl>\u001b[39m\u001b[23m 55.68378, 58.88243, 39.34165, 57.17…\n",
      "$ integrated_profile_excess_kurtosis \u001b[3m\u001b[90m<dbl>\u001b[39m\u001b[23m -0.23457141, 0.46531815, 0.32332837…\n",
      "$ integrated_profile_skewness        \u001b[3m\u001b[90m<dbl>\u001b[39m\u001b[23m -0.69964840, -0.51508791, 1.0511644…\n",
      "$ dm_snr_curve_mean                  \u001b[3m\u001b[90m<dbl>\u001b[39m\u001b[23m 3.1998328, 1.6772575, 3.1212375, 3.…\n",
      "$ dm_snr_curve_st_dev                \u001b[3m\u001b[90m<dbl>\u001b[39m\u001b[23m 19.110426, 14.860146, 21.744669, 20…\n",
      "$ dm_snr_curve_excess_kurtosis       \u001b[3m\u001b[90m<dbl>\u001b[39m\u001b[23m 7.975532, 10.576487, 7.735822, 6.89…\n",
      "$ dm_snr_curve_skewness              \u001b[3m\u001b[90m<dbl>\u001b[39m\u001b[23m 74.24222, 127.39358, 63.17191, 53.5…\n",
      "$ is_pulsar_star                     \u001b[3m\u001b[90m<fct>\u001b[39m\u001b[23m 0, 0, 0, 0, 0, 0, 0, 0, 0, 0, 0, 0,…\n"
     ]
    }
   ],
   "source": [
    "star_data <- read_csv(\"HTRU_2.csv\", col_names=FALSE, show_col_types = FALSE) |>\n",
    "    mutate(X9 = as_factor(X9))\n",
    "\n",
    "colnames(star_data) <- c(\"integrated_profile_mean\", \"integrated_profile_std_dev\", \n",
    "                         \"integrated_profile_excess_kurtosis\",\"integrated_profile_skewness\",\n",
    "                         \"dm_snr_curve_mean\",\"dm_snr_curve_st_dev\",\n",
    "                         \"dm_snr_curve_excess_kurtosis\",\"dm_snr_curve_skewness\",\n",
    "                         \"is_pulsar_star\")\n",
    "\n",
    "glimpse(star_data)"
   ]
  },
  {
   "cell_type": "code",
   "execution_count": null,
   "id": "214bcd2b-c73f-4de0-91d5-b4567cfe8283",
   "metadata": {},
   "outputs": [],
   "source": []
  }
 ],
 "metadata": {
  "kernelspec": {
   "display_name": "R",
   "language": "R",
   "name": "ir"
  },
  "language_info": {
   "codemirror_mode": "r",
   "file_extension": ".r",
   "mimetype": "text/x-r-source",
   "name": "R",
   "pygments_lexer": "r",
   "version": "4.1.3"
  }
 },
 "nbformat": 4,
 "nbformat_minor": 5
}
