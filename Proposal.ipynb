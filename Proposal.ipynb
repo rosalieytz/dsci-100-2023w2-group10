{
 "cells": [
  {
   "cell_type": "markdown",
   "id": "c8f13e61-f78b-4003-bc24-c25a0e29de02",
   "metadata": {},
   "source": [
    "(insert introduction and all that)"
   ]
  },
  {
   "cell_type": "code",
   "execution_count": 3,
   "id": "80e762c5-d94d-4549-a68c-c70cd932f63b",
   "metadata": {},
   "outputs": [
    {
     "name": "stderr",
     "output_type": "stream",
     "text": [
      "── \u001b[1mAttaching packages\u001b[22m ─────────────────────────────────────── tidyverse 1.3.1 ──\n",
      "\n",
      "\u001b[32m✔\u001b[39m \u001b[34mggplot2\u001b[39m 3.3.6     \u001b[32m✔\u001b[39m \u001b[34mpurrr  \u001b[39m 0.3.4\n",
      "\u001b[32m✔\u001b[39m \u001b[34mtibble \u001b[39m 3.1.7     \u001b[32m✔\u001b[39m \u001b[34mdplyr  \u001b[39m 1.0.9\n",
      "\u001b[32m✔\u001b[39m \u001b[34mtidyr  \u001b[39m 1.2.0     \u001b[32m✔\u001b[39m \u001b[34mstringr\u001b[39m 1.4.0\n",
      "\u001b[32m✔\u001b[39m \u001b[34mreadr  \u001b[39m 2.1.2     \u001b[32m✔\u001b[39m \u001b[34mforcats\u001b[39m 0.5.1\n",
      "\n",
      "── \u001b[1mConflicts\u001b[22m ────────────────────────────────────────── tidyverse_conflicts() ──\n",
      "\u001b[31m✖\u001b[39m \u001b[34mdplyr\u001b[39m::\u001b[32mfilter()\u001b[39m masks \u001b[34mstats\u001b[39m::filter()\n",
      "\u001b[31m✖\u001b[39m \u001b[34mdplyr\u001b[39m::\u001b[32mlag()\u001b[39m    masks \u001b[34mstats\u001b[39m::lag()\n",
      "\n"
     ]
    }
   ],
   "source": [
    "library(tidyverse)"
   ]
  },
  {
   "cell_type": "code",
   "execution_count": 16,
   "id": "dde00028-1a8b-4f5d-9b21-c34a3c392bb7",
   "metadata": {},
   "outputs": [
    {
     "name": "stdout",
     "output_type": "stream",
     "text": [
      "Rows: 17,898\n",
      "Columns: 9\n",
      "$ integrated_profile_mean            \u001b[3m\u001b[90m<dbl>\u001b[39m\u001b[23m 140.56250, 102.50781, 103.01562, 13…\n",
      "$ integrated_profile_std_dev         \u001b[3m\u001b[90m<dbl>\u001b[39m\u001b[23m 55.68378, 58.88243, 39.34165, 57.17…\n",
      "$ integrated_profile_excess_kurtosis \u001b[3m\u001b[90m<dbl>\u001b[39m\u001b[23m -0.23457141, 0.46531815, 0.32332837…\n",
      "$ integrated_profile_skewness        \u001b[3m\u001b[90m<dbl>\u001b[39m\u001b[23m -0.69964840, -0.51508791, 1.0511644…\n",
      "$ dm_snr_curve_mean                  \u001b[3m\u001b[90m<dbl>\u001b[39m\u001b[23m 3.1998328, 1.6772575, 3.1212375, 3.…\n",
      "$ dm_snr_curve_st_dev                \u001b[3m\u001b[90m<dbl>\u001b[39m\u001b[23m 19.110426, 14.860146, 21.744669, 20…\n",
      "$ dm_snr_curve_excess_kurtosis       \u001b[3m\u001b[90m<dbl>\u001b[39m\u001b[23m 7.975532, 10.576487, 7.735822, 6.89…\n",
      "$ dm_snr_curve_skewness              \u001b[3m\u001b[90m<dbl>\u001b[39m\u001b[23m 74.24222, 127.39358, 63.17191, 53.5…\n",
      "$ is_pulsar_star                     \u001b[3m\u001b[90m<fct>\u001b[39m\u001b[23m 0, 0, 0, 0, 0, 0, 0, 0, 0, 0, 0, 0,…\n"
     ]
    }
   ],
   "source": [
    "star_data <- read_csv(\"HTRU_2.csv\", col_names=FALSE, show_col_types = FALSE) |>\n",
    "    mutate(X9 = as_factor(X9))\n",
    "\n",
    "colnames(star_data) <- c(\"integrated_profile_mean\", \"integrated_profile_std_dev\", \n",
    "                         \"integrated_profile_excess_kurtosis\",\"integrated_profile_skewness\",\n",
    "                         \"dm_snr_curve_mean\",\"dm_snr_curve_st_dev\",\n",
    "                         \"dm_snr_curve_excess_kurtosis\",\"dm_snr_curve_skewness\",\n",
    "                         \"is_pulsar_star\")\n",
    "\n",
    "glimpse(star_data)"
   ]
  },
  {
   "cell_type": "code",
   "execution_count": 21,
   "id": "214bcd2b-c73f-4de0-91d5-b4567cfe8283",
   "metadata": {},
   "outputs": [
    {
     "data": {
      "text/html": [
       "<table class=\"dataframe\">\n",
       "<caption>A tibble: 2 × 2</caption>\n",
       "<thead>\n",
       "\t<tr><th scope=col>is_pulsar_star</th><th scope=col>num_stars</th></tr>\n",
       "\t<tr><th scope=col>&lt;fct&gt;</th><th scope=col>&lt;int&gt;</th></tr>\n",
       "</thead>\n",
       "<tbody>\n",
       "\t<tr><td>0</td><td>16259</td></tr>\n",
       "\t<tr><td>1</td><td> 1639</td></tr>\n",
       "</tbody>\n",
       "</table>\n"
      ],
      "text/latex": [
       "A tibble: 2 × 2\n",
       "\\begin{tabular}{ll}\n",
       " is\\_pulsar\\_star & num\\_stars\\\\\n",
       " <fct> & <int>\\\\\n",
       "\\hline\n",
       "\t 0 & 16259\\\\\n",
       "\t 1 &  1639\\\\\n",
       "\\end{tabular}\n"
      ],
      "text/markdown": [
       "\n",
       "A tibble: 2 × 2\n",
       "\n",
       "| is_pulsar_star &lt;fct&gt; | num_stars &lt;int&gt; |\n",
       "|---|---|\n",
       "| 0 | 16259 |\n",
       "| 1 |  1639 |\n",
       "\n"
      ],
      "text/plain": [
       "  is_pulsar_star num_stars\n",
       "1 0              16259    \n",
       "2 1               1639    "
      ]
     },
     "metadata": {},
     "output_type": "display_data"
    }
   ],
   "source": [
    "star_num_table <- star_data |>\n",
    "    group_by(is_pulsar_star) |>\n",
    "    summarize(num_stars = n())\n",
    "star_num_table"
   ]
  },
  {
   "cell_type": "code",
   "execution_count": 27,
   "id": "12ab9e4d-8098-4600-b5e4-8a016a67a05a",
   "metadata": {},
   "outputs": [
    {
     "data": {
      "text/html": [
       "<table class=\"dataframe\">\n",
       "<caption>A tibble: 1 × 8</caption>\n",
       "<thead>\n",
       "\t<tr><th scope=col>integrated_profile_mean</th><th scope=col>integrated_profile_std_dev</th><th scope=col>integrated_profile_excess_kurtosis</th><th scope=col>integrated_profile_skewness</th><th scope=col>dm_snr_curve_mean</th><th scope=col>dm_snr_curve_st_dev</th><th scope=col>dm_snr_curve_excess_kurtosis</th><th scope=col>dm_snr_curve_skewness</th></tr>\n",
       "\t<tr><th scope=col>&lt;dbl&gt;</th><th scope=col>&lt;dbl&gt;</th><th scope=col>&lt;dbl&gt;</th><th scope=col>&lt;dbl&gt;</th><th scope=col>&lt;dbl&gt;</th><th scope=col>&lt;dbl&gt;</th><th scope=col>&lt;dbl&gt;</th><th scope=col>&lt;dbl&gt;</th></tr>\n",
       "</thead>\n",
       "<tbody>\n",
       "\t<tr><td>111.08</td><td>46.54953</td><td>0.4778573</td><td>1.770279</td><td>12.6144</td><td>26.32651</td><td>8.303556</td><td>104.8577</td></tr>\n",
       "</tbody>\n",
       "</table>\n"
      ],
      "text/latex": [
       "A tibble: 1 × 8\n",
       "\\begin{tabular}{llllllll}\n",
       " integrated\\_profile\\_mean & integrated\\_profile\\_std\\_dev & integrated\\_profile\\_excess\\_kurtosis & integrated\\_profile\\_skewness & dm\\_snr\\_curve\\_mean & dm\\_snr\\_curve\\_st\\_dev & dm\\_snr\\_curve\\_excess\\_kurtosis & dm\\_snr\\_curve\\_skewness\\\\\n",
       " <dbl> & <dbl> & <dbl> & <dbl> & <dbl> & <dbl> & <dbl> & <dbl>\\\\\n",
       "\\hline\n",
       "\t 111.08 & 46.54953 & 0.4778573 & 1.770279 & 12.6144 & 26.32651 & 8.303556 & 104.8577\\\\\n",
       "\\end{tabular}\n"
      ],
      "text/markdown": [
       "\n",
       "A tibble: 1 × 8\n",
       "\n",
       "| integrated_profile_mean &lt;dbl&gt; | integrated_profile_std_dev &lt;dbl&gt; | integrated_profile_excess_kurtosis &lt;dbl&gt; | integrated_profile_skewness &lt;dbl&gt; | dm_snr_curve_mean &lt;dbl&gt; | dm_snr_curve_st_dev &lt;dbl&gt; | dm_snr_curve_excess_kurtosis &lt;dbl&gt; | dm_snr_curve_skewness &lt;dbl&gt; |\n",
       "|---|---|---|---|---|---|---|---|\n",
       "| 111.08 | 46.54953 | 0.4778573 | 1.770279 | 12.6144 | 26.32651 | 8.303556 | 104.8577 |\n",
       "\n"
      ],
      "text/plain": [
       "  integrated_profile_mean integrated_profile_std_dev\n",
       "1 111.08                  46.54953                  \n",
       "  integrated_profile_excess_kurtosis integrated_profile_skewness\n",
       "1 0.4778573                          1.770279                   \n",
       "  dm_snr_curve_mean dm_snr_curve_st_dev dm_snr_curve_excess_kurtosis\n",
       "1 12.6144           26.32651            8.303556                    \n",
       "  dm_snr_curve_skewness\n",
       "1 104.8577             "
      ]
     },
     "metadata": {},
     "output_type": "display_data"
    }
   ],
   "source": [
    "star_means_table <- star_data |>\n",
    "    summarize(across(integrated_profile_mean:dm_snr_curve_skewness, mean))\n",
    "star_means_table"
   ]
  },
  {
   "cell_type": "code",
   "execution_count": null,
   "id": "75e53e64-9d07-4f16-89e9-041577f4fbfd",
   "metadata": {},
   "outputs": [],
   "source": []
  }
 ],
 "metadata": {
  "kernelspec": {
   "display_name": "R",
   "language": "R",
   "name": "ir"
  },
  "language_info": {
   "codemirror_mode": "r",
   "file_extension": ".r",
   "mimetype": "text/x-r-source",
   "name": "R",
   "pygments_lexer": "r",
   "version": "4.1.3"
  }
 },
 "nbformat": 4,
 "nbformat_minor": 5
}
