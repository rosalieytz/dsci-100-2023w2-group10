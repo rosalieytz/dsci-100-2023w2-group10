{
 "cells": [
  {
   "cell_type": "markdown",
   "id": "1efca4cc-5def-4db5-bdc2-edc1fbf0c2fc",
   "metadata": {},
   "source": [
    "# **On the Hunt for Pulsar Stars**"
   ]
  },
  {
   "cell_type": "markdown",
   "id": "7165c2bf-faec-4e59-96f9-14e5a84b0501",
   "metadata": {},
   "source": [
    "# Introduction\n",
    "\n",
    "**Pulsar stars** are neutron stars that produce radio emission, which when continuously and rapidly rotated, produce a detectable periodic radio emission. In astronomical research, possible pulsar stars can be identified as **‘candidates.’** Candidates are characterized by the average value of different patterns produced by their rotations. Nearly 2,000 pulsars have been discovered, however there are still many more unidentified in our galaxy (Keith et al., 2010). \n",
    "\n",
    "\n",
    "<img src=\"https://media.giphy.com/media/l3dj5M4YLaFww31V6/giphy.gif\" width=\"480\" />\n",
    "\n",
    "*Source: https://media.giphy.com/media/l3dj5M4YLaFww31V6/giphy.gif*\n",
    "\n",
    "\n",
    "*A High Time Resolution Universe Survey was done to collect data on pulsar star candidates using a radio telescope. \n",
    "Of 17,898 collected candidates:\n",
    "* 1,639 were pulsar stars\n",
    "* 16259 were RFI/noise (false candidates)\n",
    "\n",
    "These stars were characterized by **8 variables** from the integrated pulse profile and *DM-SNR curve (Dispersion Measure v. Signal-to-Noise Ratio curve)*.\n",
    "\n",
    "\n",
    "The question we aim to address is:\n",
    "* *Will a presented pulsar star candidate be a pulsar star?*\n",
    "\n",
    "\n",
    "\n",
    "The data set we are working with is characterized by the following:\n",
    "* **Data format**: CSV.\n",
    "* **Multivariate** data set.\n",
    "* Candidates in separate rows.\n",
    "* Candidates described by **8 continuous variables**:\n",
    "    - Variables 1-4: simple statistics from **pulse (folded) profile**\n",
    "    - Variables 6-8: simple statistics from **DM-SNR curve**\n",
    "    - Variable 9: **class variable** [0 (negative class, non-pulars) or 1 (positive class, pulsars)]\n"
   ]
  },
  {
   "cell_type": "code",
   "execution_count": 3,
   "id": "0dbfc1ca-d2e8-4ecd-b3ab-6dac9581420b",
   "metadata": {},
   "outputs": [
    {
     "name": "stderr",
     "output_type": "stream",
     "text": [
      "── \u001b[1mAttaching packages\u001b[22m ─────────────────────────────────────── tidyverse 1.3.1 ──\n",
      "\n",
      "\u001b[32m✔\u001b[39m \u001b[34mggplot2\u001b[39m 3.3.6     \u001b[32m✔\u001b[39m \u001b[34mpurrr  \u001b[39m 0.3.4\n",
      "\u001b[32m✔\u001b[39m \u001b[34mtibble \u001b[39m 3.1.7     \u001b[32m✔\u001b[39m \u001b[34mdplyr  \u001b[39m 1.0.9\n",
      "\u001b[32m✔\u001b[39m \u001b[34mtidyr  \u001b[39m 1.2.0     \u001b[32m✔\u001b[39m \u001b[34mstringr\u001b[39m 1.4.0\n",
      "\u001b[32m✔\u001b[39m \u001b[34mreadr  \u001b[39m 2.1.2     \u001b[32m✔\u001b[39m \u001b[34mforcats\u001b[39m 0.5.1\n",
      "\n",
      "── \u001b[1mConflicts\u001b[22m ────────────────────────────────────────── tidyverse_conflicts() ──\n",
      "\u001b[31m✖\u001b[39m \u001b[34mdplyr\u001b[39m::\u001b[32mfilter()\u001b[39m masks \u001b[34mstats\u001b[39m::filter()\n",
      "\u001b[31m✖\u001b[39m \u001b[34mdplyr\u001b[39m::\u001b[32mlag()\u001b[39m    masks \u001b[34mstats\u001b[39m::lag()\n",
      "\n",
      "── \u001b[1mAttaching packages\u001b[22m ────────────────────────────────────── tidymodels 1.0.0 ──\n",
      "\n",
      "\u001b[32m✔\u001b[39m \u001b[34mbroom       \u001b[39m 1.0.0     \u001b[32m✔\u001b[39m \u001b[34mrsample     \u001b[39m 1.0.0\n",
      "\u001b[32m✔\u001b[39m \u001b[34mdials       \u001b[39m 1.0.0     \u001b[32m✔\u001b[39m \u001b[34mtune        \u001b[39m 1.0.0\n",
      "\u001b[32m✔\u001b[39m \u001b[34minfer       \u001b[39m 1.0.2     \u001b[32m✔\u001b[39m \u001b[34mworkflows   \u001b[39m 1.0.0\n",
      "\u001b[32m✔\u001b[39m \u001b[34mmodeldata   \u001b[39m 1.0.0     \u001b[32m✔\u001b[39m \u001b[34mworkflowsets\u001b[39m 1.0.0\n",
      "\u001b[32m✔\u001b[39m \u001b[34mparsnip     \u001b[39m 1.0.0     \u001b[32m✔\u001b[39m \u001b[34myardstick   \u001b[39m 1.0.0\n",
      "\u001b[32m✔\u001b[39m \u001b[34mrecipes     \u001b[39m 1.0.1     \n",
      "\n",
      "── \u001b[1mConflicts\u001b[22m ───────────────────────────────────────── tidymodels_conflicts() ──\n",
      "\u001b[31m✖\u001b[39m \u001b[34mscales\u001b[39m::\u001b[32mdiscard()\u001b[39m masks \u001b[34mpurrr\u001b[39m::discard()\n",
      "\u001b[31m✖\u001b[39m \u001b[34mdplyr\u001b[39m::\u001b[32mfilter()\u001b[39m   masks \u001b[34mstats\u001b[39m::filter()\n",
      "\u001b[31m✖\u001b[39m \u001b[34mrecipes\u001b[39m::\u001b[32mfixed()\u001b[39m  masks \u001b[34mstringr\u001b[39m::fixed()\n",
      "\u001b[31m✖\u001b[39m \u001b[34mdplyr\u001b[39m::\u001b[32mlag()\u001b[39m      masks \u001b[34mstats\u001b[39m::lag()\n",
      "\u001b[31m✖\u001b[39m \u001b[34myardstick\u001b[39m::\u001b[32mspec()\u001b[39m masks \u001b[34mreadr\u001b[39m::spec()\n",
      "\u001b[31m✖\u001b[39m \u001b[34mrecipes\u001b[39m::\u001b[32mstep()\u001b[39m   masks \u001b[34mstats\u001b[39m::step()\n",
      "\u001b[34m•\u001b[39m Search for functions across packages at \u001b[32mhttps://www.tidymodels.org/find/\u001b[39m\n",
      "\n"
     ]
    }
   ],
   "source": [
    "library(tidyverse)\n",
    "library(cowplot)\n",
    "library(repr)\n",
    "library(tidymodels)\n",
    "set.seed(8) "
   ]
  },
  {
   "cell_type": "markdown",
   "id": "35ce19f7-288d-4ed4-9393-24a10c866a07",
   "metadata": {},
   "source": [
    "# Preliminary exploratory data analysis:"
   ]
  },
  {
   "cell_type": "markdown",
   "id": "3e254657-1eb4-47bf-a868-4a627b9aac59",
   "metadata": {},
   "source": [
    "- Data set read from web into R using `read_csv`.\n",
    "- Column names added for each variable."
   ]
  },
  {
   "cell_type": "code",
   "execution_count": 4,
   "id": "3e66b5c2-f32c-4ef2-b47a-af00692b80f9",
   "metadata": {},
   "outputs": [
    {
     "data": {
      "text/html": [
       "<table class=\"dataframe\">\n",
       "<caption>A tibble: 5 × 9</caption>\n",
       "<thead>\n",
       "\t<tr><th scope=col>integrated_profile_mean</th><th scope=col>integrated_profile_st_dev</th><th scope=col>integrated_profile_excess_kurtosis</th><th scope=col>integrated_profile_skewness</th><th scope=col>dm_snr_curve_mean</th><th scope=col>dm_snr_curve_st_dev</th><th scope=col>dm_snr_curve_excess_kurtosis</th><th scope=col>dm_snr_curve_skewness</th><th scope=col>is_pulsar_star</th></tr>\n",
       "\t<tr><th scope=col>&lt;dbl&gt;</th><th scope=col>&lt;dbl&gt;</th><th scope=col>&lt;dbl&gt;</th><th scope=col>&lt;dbl&gt;</th><th scope=col>&lt;dbl&gt;</th><th scope=col>&lt;dbl&gt;</th><th scope=col>&lt;dbl&gt;</th><th scope=col>&lt;dbl&gt;</th><th scope=col>&lt;fct&gt;</th></tr>\n",
       "</thead>\n",
       "<tbody>\n",
       "\t<tr><td>120.26562</td><td>40.97150</td><td>-0.0621932</td><td> 0.7003721</td><td> 4.875418</td><td>27.06243</td><td>6.423170</td><td>43.4495277</td><td>0</td></tr>\n",
       "\t<tr><td> 48.07812</td><td>32.40023</td><td> 3.5966131</td><td>17.3149805</td><td>64.764214</td><td>72.62912</td><td>1.105638</td><td> 0.2806927</td><td>1</td></tr>\n",
       "\t<tr><td>101.28906</td><td>35.08676</td><td> 0.4551854</td><td> 2.3095122</td><td> 2.858696</td><td>17.61976</td><td>8.189531</td><td>80.5372445</td><td>0</td></tr>\n",
       "\t<tr><td>147.40625</td><td>46.14624</td><td>-0.5610487</td><td> 0.5355521</td><td> 2.950669</td><td>17.15384</td><td>8.361733</td><td>86.4214103</td><td>0</td></tr>\n",
       "\t<tr><td> 91.66406</td><td>38.91282</td><td> 0.2377319</td><td> 1.5010685</td><td> 3.525920</td><td>19.23582</td><td>6.971174</td><td>56.6734882</td><td>0</td></tr>\n",
       "</tbody>\n",
       "</table>\n"
      ],
      "text/latex": [
       "A tibble: 5 × 9\n",
       "\\begin{tabular}{lllllllll}\n",
       " integrated\\_profile\\_mean & integrated\\_profile\\_st\\_dev & integrated\\_profile\\_excess\\_kurtosis & integrated\\_profile\\_skewness & dm\\_snr\\_curve\\_mean & dm\\_snr\\_curve\\_st\\_dev & dm\\_snr\\_curve\\_excess\\_kurtosis & dm\\_snr\\_curve\\_skewness & is\\_pulsar\\_star\\\\\n",
       " <dbl> & <dbl> & <dbl> & <dbl> & <dbl> & <dbl> & <dbl> & <dbl> & <fct>\\\\\n",
       "\\hline\n",
       "\t 120.26562 & 40.97150 & -0.0621932 &  0.7003721 &  4.875418 & 27.06243 & 6.423170 & 43.4495277 & 0\\\\\n",
       "\t  48.07812 & 32.40023 &  3.5966131 & 17.3149805 & 64.764214 & 72.62912 & 1.105638 &  0.2806927 & 1\\\\\n",
       "\t 101.28906 & 35.08676 &  0.4551854 &  2.3095122 &  2.858696 & 17.61976 & 8.189531 & 80.5372445 & 0\\\\\n",
       "\t 147.40625 & 46.14624 & -0.5610487 &  0.5355521 &  2.950669 & 17.15384 & 8.361733 & 86.4214103 & 0\\\\\n",
       "\t  91.66406 & 38.91282 &  0.2377319 &  1.5010685 &  3.525920 & 19.23582 & 6.971174 & 56.6734882 & 0\\\\\n",
       "\\end{tabular}\n"
      ],
      "text/markdown": [
       "\n",
       "A tibble: 5 × 9\n",
       "\n",
       "| integrated_profile_mean &lt;dbl&gt; | integrated_profile_st_dev &lt;dbl&gt; | integrated_profile_excess_kurtosis &lt;dbl&gt; | integrated_profile_skewness &lt;dbl&gt; | dm_snr_curve_mean &lt;dbl&gt; | dm_snr_curve_st_dev &lt;dbl&gt; | dm_snr_curve_excess_kurtosis &lt;dbl&gt; | dm_snr_curve_skewness &lt;dbl&gt; | is_pulsar_star &lt;fct&gt; |\n",
       "|---|---|---|---|---|---|---|---|---|\n",
       "| 120.26562 | 40.97150 | -0.0621932 |  0.7003721 |  4.875418 | 27.06243 | 6.423170 | 43.4495277 | 0 |\n",
       "|  48.07812 | 32.40023 |  3.5966131 | 17.3149805 | 64.764214 | 72.62912 | 1.105638 |  0.2806927 | 1 |\n",
       "| 101.28906 | 35.08676 |  0.4551854 |  2.3095122 |  2.858696 | 17.61976 | 8.189531 | 80.5372445 | 0 |\n",
       "| 147.40625 | 46.14624 | -0.5610487 |  0.5355521 |  2.950669 | 17.15384 | 8.361733 | 86.4214103 | 0 |\n",
       "|  91.66406 | 38.91282 |  0.2377319 |  1.5010685 |  3.525920 | 19.23582 | 6.971174 | 56.6734882 | 0 |\n",
       "\n"
      ],
      "text/plain": [
       "  integrated_profile_mean integrated_profile_st_dev\n",
       "1 120.26562               40.97150                 \n",
       "2  48.07812               32.40023                 \n",
       "3 101.28906               35.08676                 \n",
       "4 147.40625               46.14624                 \n",
       "5  91.66406               38.91282                 \n",
       "  integrated_profile_excess_kurtosis integrated_profile_skewness\n",
       "1 -0.0621932                          0.7003721                 \n",
       "2  3.5966131                         17.3149805                 \n",
       "3  0.4551854                          2.3095122                 \n",
       "4 -0.5610487                          0.5355521                 \n",
       "5  0.2377319                          1.5010685                 \n",
       "  dm_snr_curve_mean dm_snr_curve_st_dev dm_snr_curve_excess_kurtosis\n",
       "1  4.875418         27.06243            6.423170                    \n",
       "2 64.764214         72.62912            1.105638                    \n",
       "3  2.858696         17.61976            8.189531                    \n",
       "4  2.950669         17.15384            8.361733                    \n",
       "5  3.525920         19.23582            6.971174                    \n",
       "  dm_snr_curve_skewness is_pulsar_star\n",
       "1 43.4495277            0             \n",
       "2  0.2806927            1             \n",
       "3 80.5372445            0             \n",
       "4 86.4214103            0             \n",
       "5 56.6734882            0             "
      ]
     },
     "metadata": {},
     "output_type": "display_data"
    }
   ],
   "source": [
    "star_data <- read_csv(\"HTRU_2.csv\", col_names=FALSE, show_col_types = FALSE) |>\n",
    "    mutate(X9 = as_factor(X9))\n",
    "\n",
    "colnames(star_data) <- c(\"integrated_profile_mean\", \"integrated_profile_st_dev\", \n",
    "                         \"integrated_profile_excess_kurtosis\",\"integrated_profile_skewness\",\n",
    "                         \"dm_snr_curve_mean\",\"dm_snr_curve_st_dev\",\n",
    "                         \"dm_snr_curve_excess_kurtosis\",\"dm_snr_curve_skewness\",\n",
    "                         \"is_pulsar_star\")\n",
    "\n",
    "sample_n(star_data, 5)"
   ]
  },
  {
   "cell_type": "markdown",
   "id": "99e92f35-e713-4d69-9ac6-d3ac387d90e8",
   "metadata": {},
   "source": [
    "↑ This table shows the 8 characteristics of a pulsar star. Only the first 5 rows are displayed.\n",
    "\n",
    "* Data was split into testing data and training data, 75% went to `star_training_data`, 25% to `star_testing_data`.\n",
    "\n",
    "The first 5 rows are displayed:"
   ]
  },
  {
   "cell_type": "code",
   "execution_count": 5,
   "id": "f1ade5ff-3700-4d1a-9beb-1f58c8e176a5",
   "metadata": {},
   "outputs": [
    {
     "data": {
      "text/html": [
       "<table class=\"dataframe\">\n",
       "<caption>A tibble: 5 × 9</caption>\n",
       "<thead>\n",
       "\t<tr><th scope=col>integrated_profile_mean</th><th scope=col>integrated_profile_st_dev</th><th scope=col>integrated_profile_excess_kurtosis</th><th scope=col>integrated_profile_skewness</th><th scope=col>dm_snr_curve_mean</th><th scope=col>dm_snr_curve_st_dev</th><th scope=col>dm_snr_curve_excess_kurtosis</th><th scope=col>dm_snr_curve_skewness</th><th scope=col>is_pulsar_star</th></tr>\n",
       "\t<tr><th scope=col>&lt;dbl&gt;</th><th scope=col>&lt;dbl&gt;</th><th scope=col>&lt;dbl&gt;</th><th scope=col>&lt;dbl&gt;</th><th scope=col>&lt;dbl&gt;</th><th scope=col>&lt;dbl&gt;</th><th scope=col>&lt;dbl&gt;</th><th scope=col>&lt;dbl&gt;</th><th scope=col>&lt;fct&gt;</th></tr>\n",
       "</thead>\n",
       "<tbody>\n",
       "\t<tr><td> 93.46875</td><td>48.12255</td><td>0.46159507</td><td> 0.6859860</td><td>1.7918060</td><td>12.09623</td><td>11.353452</td><td>182.56537</td><td>0</td></tr>\n",
       "\t<tr><td> 81.63281</td><td>38.82289</td><td>0.60677565</td><td> 1.8984875</td><td>0.8963211</td><td>11.50102</td><td>15.462312</td><td>273.16024</td><td>0</td></tr>\n",
       "\t<tr><td> 87.10938</td><td>36.06055</td><td>0.73766435</td><td> 2.7163270</td><td>2.5618729</td><td>19.75985</td><td> 8.771769</td><td> 82.96544</td><td>0</td></tr>\n",
       "\t<tr><td> 89.61719</td><td>36.51543</td><td>0.41023659</td><td> 2.5995292</td><td>2.2625418</td><td>17.97103</td><td> 9.206931</td><td> 92.92024</td><td>0</td></tr>\n",
       "\t<tr><td>117.78906</td><td>54.76350</td><td>0.02951264</td><td>-0.5583328</td><td>2.2056856</td><td>15.39468</td><td> 9.912823</td><td>118.64161</td><td>0</td></tr>\n",
       "</tbody>\n",
       "</table>\n"
      ],
      "text/latex": [
       "A tibble: 5 × 9\n",
       "\\begin{tabular}{lllllllll}\n",
       " integrated\\_profile\\_mean & integrated\\_profile\\_st\\_dev & integrated\\_profile\\_excess\\_kurtosis & integrated\\_profile\\_skewness & dm\\_snr\\_curve\\_mean & dm\\_snr\\_curve\\_st\\_dev & dm\\_snr\\_curve\\_excess\\_kurtosis & dm\\_snr\\_curve\\_skewness & is\\_pulsar\\_star\\\\\n",
       " <dbl> & <dbl> & <dbl> & <dbl> & <dbl> & <dbl> & <dbl> & <dbl> & <fct>\\\\\n",
       "\\hline\n",
       "\t  93.46875 & 48.12255 & 0.46159507 &  0.6859860 & 1.7918060 & 12.09623 & 11.353452 & 182.56537 & 0\\\\\n",
       "\t  81.63281 & 38.82289 & 0.60677565 &  1.8984875 & 0.8963211 & 11.50102 & 15.462312 & 273.16024 & 0\\\\\n",
       "\t  87.10938 & 36.06055 & 0.73766435 &  2.7163270 & 2.5618729 & 19.75985 &  8.771769 &  82.96544 & 0\\\\\n",
       "\t  89.61719 & 36.51543 & 0.41023659 &  2.5995292 & 2.2625418 & 17.97103 &  9.206931 &  92.92024 & 0\\\\\n",
       "\t 117.78906 & 54.76350 & 0.02951264 & -0.5583328 & 2.2056856 & 15.39468 &  9.912823 & 118.64161 & 0\\\\\n",
       "\\end{tabular}\n"
      ],
      "text/markdown": [
       "\n",
       "A tibble: 5 × 9\n",
       "\n",
       "| integrated_profile_mean &lt;dbl&gt; | integrated_profile_st_dev &lt;dbl&gt; | integrated_profile_excess_kurtosis &lt;dbl&gt; | integrated_profile_skewness &lt;dbl&gt; | dm_snr_curve_mean &lt;dbl&gt; | dm_snr_curve_st_dev &lt;dbl&gt; | dm_snr_curve_excess_kurtosis &lt;dbl&gt; | dm_snr_curve_skewness &lt;dbl&gt; | is_pulsar_star &lt;fct&gt; |\n",
       "|---|---|---|---|---|---|---|---|---|\n",
       "|  93.46875 | 48.12255 | 0.46159507 |  0.6859860 | 1.7918060 | 12.09623 | 11.353452 | 182.56537 | 0 |\n",
       "|  81.63281 | 38.82289 | 0.60677565 |  1.8984875 | 0.8963211 | 11.50102 | 15.462312 | 273.16024 | 0 |\n",
       "|  87.10938 | 36.06055 | 0.73766435 |  2.7163270 | 2.5618729 | 19.75985 |  8.771769 |  82.96544 | 0 |\n",
       "|  89.61719 | 36.51543 | 0.41023659 |  2.5995292 | 2.2625418 | 17.97103 |  9.206931 |  92.92024 | 0 |\n",
       "| 117.78906 | 54.76350 | 0.02951264 | -0.5583328 | 2.2056856 | 15.39468 |  9.912823 | 118.64161 | 0 |\n",
       "\n"
      ],
      "text/plain": [
       "  integrated_profile_mean integrated_profile_st_dev\n",
       "1  93.46875               48.12255                 \n",
       "2  81.63281               38.82289                 \n",
       "3  87.10938               36.06055                 \n",
       "4  89.61719               36.51543                 \n",
       "5 117.78906               54.76350                 \n",
       "  integrated_profile_excess_kurtosis integrated_profile_skewness\n",
       "1 0.46159507                          0.6859860                 \n",
       "2 0.60677565                          1.8984875                 \n",
       "3 0.73766435                          2.7163270                 \n",
       "4 0.41023659                          2.5995292                 \n",
       "5 0.02951264                         -0.5583328                 \n",
       "  dm_snr_curve_mean dm_snr_curve_st_dev dm_snr_curve_excess_kurtosis\n",
       "1 1.7918060         12.09623            11.353452                   \n",
       "2 0.8963211         11.50102            15.462312                   \n",
       "3 2.5618729         19.75985             8.771769                   \n",
       "4 2.2625418         17.97103             9.206931                   \n",
       "5 2.2056856         15.39468             9.912823                   \n",
       "  dm_snr_curve_skewness is_pulsar_star\n",
       "1 182.56537             0             \n",
       "2 273.16024             0             \n",
       "3  82.96544             0             \n",
       "4  92.92024             0             \n",
       "5 118.64161             0             "
      ]
     },
     "metadata": {},
     "output_type": "display_data"
    },
    {
     "data": {
      "text/html": [
       "<table class=\"dataframe\">\n",
       "<caption>A tibble: 5 × 9</caption>\n",
       "<thead>\n",
       "\t<tr><th scope=col>integrated_profile_mean</th><th scope=col>integrated_profile_st_dev</th><th scope=col>integrated_profile_excess_kurtosis</th><th scope=col>integrated_profile_skewness</th><th scope=col>dm_snr_curve_mean</th><th scope=col>dm_snr_curve_st_dev</th><th scope=col>dm_snr_curve_excess_kurtosis</th><th scope=col>dm_snr_curve_skewness</th><th scope=col>is_pulsar_star</th></tr>\n",
       "\t<tr><th scope=col>&lt;dbl&gt;</th><th scope=col>&lt;dbl&gt;</th><th scope=col>&lt;dbl&gt;</th><th scope=col>&lt;dbl&gt;</th><th scope=col>&lt;dbl&gt;</th><th scope=col>&lt;dbl&gt;</th><th scope=col>&lt;dbl&gt;</th><th scope=col>&lt;dbl&gt;</th><th scope=col>&lt;fct&gt;</th></tr>\n",
       "</thead>\n",
       "<tbody>\n",
       "\t<tr><td>109.50781</td><td>53.17791</td><td>0.3409544</td><td>-0.2960606</td><td>  2.384615</td><td>15.06311</td><td> 9.6920965</td><td>119.604208</td><td>0</td></tr>\n",
       "\t<tr><td>114.07031</td><td>45.07549</td><td>0.3725373</td><td> 0.3848339</td><td>  3.674749</td><td>22.45479</td><td> 7.9090135</td><td> 69.290189</td><td>0</td></tr>\n",
       "\t<tr><td>103.72656</td><td>41.52648</td><td>0.2940411</td><td> 0.7518841</td><td>  2.852007</td><td>20.32879</td><td> 7.8832463</td><td> 66.391748</td><td>0</td></tr>\n",
       "\t<tr><td>105.49219</td><td>43.50072</td><td>0.1541802</td><td> 0.4081166</td><td>  2.316054</td><td>19.09851</td><td> 9.3772293</td><td> 95.200946</td><td>0</td></tr>\n",
       "\t<tr><td> 22.96875</td><td>28.21013</td><td>6.6530311</td><td>47.9690273</td><td>127.337793</td><td>82.08953</td><td>-0.2059049</td><td> -1.154988</td><td>1</td></tr>\n",
       "</tbody>\n",
       "</table>\n"
      ],
      "text/latex": [
       "A tibble: 5 × 9\n",
       "\\begin{tabular}{lllllllll}\n",
       " integrated\\_profile\\_mean & integrated\\_profile\\_st\\_dev & integrated\\_profile\\_excess\\_kurtosis & integrated\\_profile\\_skewness & dm\\_snr\\_curve\\_mean & dm\\_snr\\_curve\\_st\\_dev & dm\\_snr\\_curve\\_excess\\_kurtosis & dm\\_snr\\_curve\\_skewness & is\\_pulsar\\_star\\\\\n",
       " <dbl> & <dbl> & <dbl> & <dbl> & <dbl> & <dbl> & <dbl> & <dbl> & <fct>\\\\\n",
       "\\hline\n",
       "\t 109.50781 & 53.17791 & 0.3409544 & -0.2960606 &   2.384615 & 15.06311 &  9.6920965 & 119.604208 & 0\\\\\n",
       "\t 114.07031 & 45.07549 & 0.3725373 &  0.3848339 &   3.674749 & 22.45479 &  7.9090135 &  69.290189 & 0\\\\\n",
       "\t 103.72656 & 41.52648 & 0.2940411 &  0.7518841 &   2.852007 & 20.32879 &  7.8832463 &  66.391748 & 0\\\\\n",
       "\t 105.49219 & 43.50072 & 0.1541802 &  0.4081166 &   2.316054 & 19.09851 &  9.3772293 &  95.200946 & 0\\\\\n",
       "\t  22.96875 & 28.21013 & 6.6530311 & 47.9690273 & 127.337793 & 82.08953 & -0.2059049 &  -1.154988 & 1\\\\\n",
       "\\end{tabular}\n"
      ],
      "text/markdown": [
       "\n",
       "A tibble: 5 × 9\n",
       "\n",
       "| integrated_profile_mean &lt;dbl&gt; | integrated_profile_st_dev &lt;dbl&gt; | integrated_profile_excess_kurtosis &lt;dbl&gt; | integrated_profile_skewness &lt;dbl&gt; | dm_snr_curve_mean &lt;dbl&gt; | dm_snr_curve_st_dev &lt;dbl&gt; | dm_snr_curve_excess_kurtosis &lt;dbl&gt; | dm_snr_curve_skewness &lt;dbl&gt; | is_pulsar_star &lt;fct&gt; |\n",
       "|---|---|---|---|---|---|---|---|---|\n",
       "| 109.50781 | 53.17791 | 0.3409544 | -0.2960606 |   2.384615 | 15.06311 |  9.6920965 | 119.604208 | 0 |\n",
       "| 114.07031 | 45.07549 | 0.3725373 |  0.3848339 |   3.674749 | 22.45479 |  7.9090135 |  69.290189 | 0 |\n",
       "| 103.72656 | 41.52648 | 0.2940411 |  0.7518841 |   2.852007 | 20.32879 |  7.8832463 |  66.391748 | 0 |\n",
       "| 105.49219 | 43.50072 | 0.1541802 |  0.4081166 |   2.316054 | 19.09851 |  9.3772293 |  95.200946 | 0 |\n",
       "|  22.96875 | 28.21013 | 6.6530311 | 47.9690273 | 127.337793 | 82.08953 | -0.2059049 |  -1.154988 | 1 |\n",
       "\n"
      ],
      "text/plain": [
       "  integrated_profile_mean integrated_profile_st_dev\n",
       "1 109.50781               53.17791                 \n",
       "2 114.07031               45.07549                 \n",
       "3 103.72656               41.52648                 \n",
       "4 105.49219               43.50072                 \n",
       "5  22.96875               28.21013                 \n",
       "  integrated_profile_excess_kurtosis integrated_profile_skewness\n",
       "1 0.3409544                          -0.2960606                 \n",
       "2 0.3725373                           0.3848339                 \n",
       "3 0.2940411                           0.7518841                 \n",
       "4 0.1541802                           0.4081166                 \n",
       "5 6.6530311                          47.9690273                 \n",
       "  dm_snr_curve_mean dm_snr_curve_st_dev dm_snr_curve_excess_kurtosis\n",
       "1   2.384615        15.06311             9.6920965                  \n",
       "2   3.674749        22.45479             7.9090135                  \n",
       "3   2.852007        20.32879             7.8832463                  \n",
       "4   2.316054        19.09851             9.3772293                  \n",
       "5 127.337793        82.08953            -0.2059049                  \n",
       "  dm_snr_curve_skewness is_pulsar_star\n",
       "1 119.604208            0             \n",
       "2  69.290189            0             \n",
       "3  66.391748            0             \n",
       "4  95.200946            0             \n",
       "5  -1.154988            1             "
      ]
     },
     "metadata": {},
     "output_type": "display_data"
    }
   ],
   "source": [
    "star_split <- initial_split(star_data, prop = 0.75, strata = is_pulsar_star)  \n",
    "\n",
    "star_training_data <- training(star_split)   \n",
    "star_testing_data <- testing(star_split)\n",
    "\n",
    "sample_n(star_training_data, 5)\n",
    "sample_n(star_testing_data, 5)"
   ]
  },
  {
   "cell_type": "code",
   "execution_count": null,
   "id": "52f58b87-d16b-4eb6-b01a-c51a0de7de0b",
   "metadata": {},
   "outputs": [],
   "source": []
  }
 ],
 "metadata": {
  "kernelspec": {
   "display_name": "R",
   "language": "R",
   "name": "ir"
  },
  "language_info": {
   "codemirror_mode": "r",
   "file_extension": ".r",
   "mimetype": "text/x-r-source",
   "name": "R",
   "pygments_lexer": "r",
   "version": "4.1.3"
  }
 },
 "nbformat": 4,
 "nbformat_minor": 5
}
