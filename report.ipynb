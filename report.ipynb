{
 "cells": [
  {
   "cell_type": "markdown",
   "id": "1efca4cc-5def-4db5-bdc2-edc1fbf0c2fc",
   "metadata": {},
   "source": [
    "# **On the Hunt for Pulsar Stars**"
   ]
  },
  {
   "cell_type": "markdown",
   "id": "7165c2bf-faec-4e59-96f9-14e5a84b0501",
   "metadata": {},
   "source": [
    "# Introduction\n",
    "\n",
    "**Pulsar stars** are neutron stars that produce radio emission, which when continuously and rapidly rotated, produce a detectable periodic radio emission. In astronomical research, possible pulsar stars can be identified as **‘candidates.’** Candidates are characterized by the average value of different patterns produced by their rotations. Nearly 2,000 pulsars have been discovered, however there are still many more unidentified in our galaxy (Keith et al., 2010). \n",
    "\n",
    "\n",
    "<img src=\"https://media.giphy.com/media/l3dj5M4YLaFww31V6/giphy.gif\" width=\"480\" />\n",
    "\n",
    "*Source: https://media.giphy.com/media/l3dj5M4YLaFww31V6/giphy.gif*\n",
    "\n",
    "\n",
    "*A High Time Resolution Universe Survey was done to collect data on pulsar star candidates using a radio telescope. \n",
    "Of 17,898 collected candidates, 1,639 were pulsar stars [positive class (1)], and 16,259 were RFI/noise (false candidates) [negative class (0)]. Pulsar stars are the minority of detections.\n",
    "\n",
    "These stars were characterized by **8 variables** from the integrated pulse profile and *DM-SNR curve (Dispersion Measure v. Signal-to-Noise Ratio curve)*.\n",
    "\n",
    "The Dispersion Measure of a pulsar is the quantity of electrons between an observer and the pulsar, and it can be used to indicate distance from a detected pulsar (Pulsar, n.d.). The Signal-to-Noise Ratio is the ratio of wanted signal to unwanted noise; this ratio is typically low in pulsar stars due to received signals being low (Pulsar, n.d).\n",
    "The Integrated Pulse Profile is the “fingerprint” of the pulsar, which is used to distinguish pulsar stars due to their characteristic profile (Liu, n.d.). They are consistent from multiple observations (Liu, n.d.).\n",
    "\n",
    "\n",
    "\n",
    "**The question we aim to address is:**\n",
    "\n",
    "Given an observed candidate pulsar star’s data (integrated profile mean, integrated profile standard deviation, integrated profile excess kurtosis, integrated profile skewness, DM-SNR curve mean, DM-SNR curve standard deviation, DM-SNR curve excess kurtosis, DM-SNR curve skewness), can we successfully and accurately determine if the presented candidate is a pulsar star?\n",
    "\n",
    "The data set we are working with is characterized by the following:\n",
    "* **Data format**: CSV.\n",
    "* **Multivariate** data set.\n",
    "* Candidates in separate rows.\n",
    "* Candidates described by **8 continuous variables**:\n",
    "    - Variables 1-4: simple statistics from **pulse (folded) profile**\n",
    "    - Variables 6-8: simple statistics from **DM-SNR curve**\n",
    "    - Variable 9: **class variable** [0 (negative class, non-pulars) or 1 (positive class, pulsars)]\n"
   ]
  },
  {
   "cell_type": "code",
   "execution_count": null,
   "id": "0dbfc1ca-d2e8-4ecd-b3ab-6dac9581420b",
   "metadata": {},
   "outputs": [],
   "source": [
    "install.packages(\"themis\")\n",
    "library(tidyverse)\n",
    "library(cowplot)\n",
    "library(repr)\n",
    "library(tidymodels)\n",
    "library(themis)\n",
    "set.seed(8) "
   ]
  },
  {
   "cell_type": "markdown",
   "id": "2a66833b-3669-40b4-9e0e-533d46d19040",
   "metadata": {},
   "source": [
    "# Description of Libraries/Packages Used:"
   ]
  },
  {
   "cell_type": "markdown",
   "id": "1e2c3e50-4828-4c86-8294-1c759072c707",
   "metadata": {},
   "source": [
    "* `install.packages(\"themis\")` and `library(themis)` was installed and used for upscaling minority class in training data before making a model.\n",
    "* `library(tidyverse)` accessed the tidyverse meta package to use functions for reading and wrangling pulsar star data.\n",
    "* `library(cowplot)` allowed plots to be arranged into a grid (Wilke, 2020).\n",
    "* `library(repr)` created readable representations of data.\n",
    "* `library(tidymodels)` was used for modelling.\n",
    "\n",
    "\n",
    "\n",
    "\n",
    "\n",
    "\n",
    "\n"
   ]
  },
  {
   "cell_type": "markdown",
   "id": "5781f327-3f5f-433f-8ce8-1e62caede9e3",
   "metadata": {},
   "source": [
    "# Preliminary Exploratory Data Analysis:"
   ]
  },
  {
   "cell_type": "markdown",
   "id": "3e254657-1eb4-47bf-a868-4a627b9aac59",
   "metadata": {},
   "source": [
    "We first had to download the sample of pulsar stars dataset H2RU2 UCI Machine Learning Repository into the data and then read the file using `read_csv` because the delimiter present was a comma – we called the dataset `star_data`. We made our last column, `X9`, into a factor using the function `as_factor` because it was a categorical statistical variable, and we added column names using the function `colnames`."
   ]
  },
  {
   "cell_type": "code",
   "execution_count": null,
   "id": "3e66b5c2-f32c-4ef2-b47a-af00692b80f9",
   "metadata": {},
   "outputs": [],
   "source": [
    "star_data <- read_csv(\"HTRU_2.csv\", col_names=FALSE, show_col_types = FALSE) |>\n",
    "    mutate(X9 = as_factor(X9))\n",
    "\n",
    "colnames(star_data) <- c(\"integrated_profile_mean\", \"integrated_profile_st_dev\", \n",
    "                         \"integrated_profile_excess_kurtosis\",\"integrated_profile_skewness\",\n",
    "                         \"dm_snr_curve_mean\",\"dm_snr_curve_st_dev\",\n",
    "                         \"dm_snr_curve_excess_kurtosis\",\"dm_snr_curve_skewness\",\n",
    "                         \"is_pulsar_star\")\n",
    "\n",
    "sample_n(star_data, 5)"
   ]
  },
  {
   "cell_type": "markdown",
   "id": "99e92f35-e713-4d69-9ac6-d3ac387d90e8",
   "metadata": {},
   "source": [
    "_Table 1: First 5 rows of the dataset displaying candidates’ 8 variables_ "
   ]
  },
  {
   "cell_type": "markdown",
   "id": "d70400e5-2062-458c-9743-44dae7c39300",
   "metadata": {},
   "source": [
    "We split the data into a training set and a testing set using `initial_split` function, with 75% of the data in the training set, which we called `star_training_data`, and 25% of the data in the testing set, which we called `star_testing_data`. We built our classifier using only the training data, and then tested the accuracy of our classifier on the testing data."
   ]
  },
  {
   "cell_type": "code",
   "execution_count": null,
   "id": "f1ade5ff-3700-4d1a-9beb-1f58c8e176a5",
   "metadata": {},
   "outputs": [],
   "source": [
    "star_split <- initial_split(star_data, prop = 0.75, strata = is_pulsar_star)  \n",
    "\n",
    "star_training_data <- training(star_split)   \n",
    "star_testing_data <- testing(star_split)\n",
    "\n",
    "sample_n(star_training_data, 5)"
   ]
  },
  {
   "cell_type": "markdown",
   "id": "6b789f14-39ae-4c2c-a735-5df4779a9d51",
   "metadata": {},
   "source": [
    "_Table 2: First 5 rows of the training data_"
   ]
  },
  {
   "cell_type": "code",
   "execution_count": null,
   "id": "7e00dd30-b7b8-4868-855b-a05dfa6062a8",
   "metadata": {},
   "outputs": [],
   "source": [
    "sample_n(star_testing_data, 5)"
   ]
  },
  {
   "cell_type": "markdown",
   "id": "11ff9e89-6fba-4795-97bb-9cd1244f3e1e",
   "metadata": {},
   "source": [
    "_Table 3: First 5 rows of testing data_"
   ]
  },
  {
   "cell_type": "markdown",
   "id": "902dcfef-d570-46ec-85b8-bc5c8a0fdb40",
   "metadata": {},
   "source": [
    "Using `group_by` and `summarize` functions, we could see how many pulsar stars and non-pulsar stars were in our training data, allowing us to determine if our training data was a good representation of our entire dataset."
   ]
  },
  {
   "cell_type": "code",
   "execution_count": null,
   "id": "e16793e8-fc81-4a58-b45a-49833b306b8d",
   "metadata": {},
   "outputs": [],
   "source": [
    "star_num_table <- star_training_data |>\n",
    "    group_by(is_pulsar_star) |>\n",
    "    summarize(num_stars = n())\n",
    "star_num_table"
   ]
  },
  {
   "cell_type": "markdown",
   "id": "509b959e-df29-409d-a1d3-27cd51da58bd",
   "metadata": {},
   "source": [
    "_Table 4: Quantity of pulsar(1) and non-pulsar(0) stars in training set_"
   ]
  },
  {
   "cell_type": "markdown",
   "id": "9c49803d-be64-4e1a-b151-f9abcb9e0bcf",
   "metadata": {},
   "source": [
    "As we can see, the proportion in the training set is similar to the original data."
   ]
  },
  {
   "cell_type": "markdown",
   "id": "271123ee-51be-4774-91d9-1391934fb008",
   "metadata": {},
   "source": [
    "Using `group_by` and `summarize` functions we compared the mean, maximum and variance values of pulsar and non-pulsar stars for each column to see the differences between the two groups."
   ]
  },
  {
   "cell_type": "code",
   "execution_count": null,
   "id": "3554ad45-f747-402a-9587-1a7150b047e3",
   "metadata": {},
   "outputs": [],
   "source": [
    "star_means_table <- star_training_data |>\n",
    "    group_by(is_pulsar_star)|>\n",
    "    summarize(across(integrated_profile_mean:dm_snr_curve_skewness, mean))\n",
    "star_means_table"
   ]
  },
  {
   "cell_type": "markdown",
   "id": "7cd01d74-0591-4f40-94e5-253be262bdc5",
   "metadata": {},
   "source": [
    "_Table 5: Mean of every column in training set, grouped by non-pulsar and pulsar_"
   ]
  },
  {
   "cell_type": "markdown",
   "id": "c3ab6357-51b4-44e8-a993-7b032331e5b2",
   "metadata": {},
   "source": [
    "We then found the maximum across columns in the training set, grouped by non-pulsar and pulsar, using `group_by` and `summarize`."
   ]
  },
  {
   "cell_type": "code",
   "execution_count": null,
   "id": "0e54b55a-8280-4862-ba2c-bea079f97f56",
   "metadata": {},
   "outputs": [],
   "source": [
    "star_max_table <- star_training_data |>\n",
    "    group_by(is_pulsar_star)|>\n",
    "    summarize(across(integrated_profile_mean:dm_snr_curve_skewness, max))\n",
    "star_max_table"
   ]
  },
  {
   "cell_type": "markdown",
   "id": "6307677a-8b97-47bd-a63b-66ab5dd8107d",
   "metadata": {},
   "source": [
    "_Table 6: Maximum across columns in training data grouped by non-pulsar and pulsar_"
   ]
  },
  {
   "cell_type": "markdown",
   "id": "4b5bf18f-a3fb-4685-a7e2-4d69325d8a61",
   "metadata": {},
   "source": [
    "We then calculated the variance of every column in the data set, grouped by pulsar and non-pulsar."
   ]
  },
  {
   "cell_type": "code",
   "execution_count": null,
   "id": "62a82046-a7c2-403c-9279-295d7668346a",
   "metadata": {},
   "outputs": [],
   "source": [
    "star_var_table <- star_training_data |>\n",
    "    group_by(is_pulsar_star)|>\n",
    "    summarize(across(integrated_profile_mean:dm_snr_curve_skewness, var))\n",
    "star_var_table"
   ]
  },
  {
   "cell_type": "markdown",
   "id": "1866424a-4804-449c-af69-54547950ac05",
   "metadata": {},
   "source": [
    "_Table 7: Variance across columns in training data grouped by non-pulsar and pulsar_"
   ]
  },
  {
   "cell_type": "markdown",
   "id": "f3fafda6-8f29-48af-b8ec-1c097d4e185b",
   "metadata": {},
   "source": [
    "Using the `ggplot` and `geom_point` functions, we showed 4 scatterplots by grouping the variables with similarities: Mean of Integrated Profile vs. Mean of DM-SNR curve, Skewness of Integrated Profile vs. Skewness of DM-SNR curve, Standard deviation of Integrated Profile vs. Standard Deviation of SM-SNR curve, and Excess kurtosis of Integrated Profile vs. Excess Kurtosis of DM-SNR curve. When the plots were grouped together using `plot_grid` , we saw there was a significant distinction between pulsar stars and non-pulsar stars in each scatterplot, and so we decided to use all 8 variables in our classifier. "
   ]
  },
  {
   "cell_type": "markdown",
   "id": "3f43878b-958b-4f68-a11c-56e7308b1ab8",
   "metadata": {},
   "source": [
    "Mean of Integrated Profile verses the mean of DM-SNR Curve plotted in scatterplot:"
   ]
  },
  {
   "cell_type": "code",
   "execution_count": null,
   "id": "28db1697-428b-4e3d-be6a-33d2fd2b2a0c",
   "metadata": {},
   "outputs": [],
   "source": [
    "options(repr.plot.width = 20, repr.plot.height = 8)\n",
    "plot_1<- ggplot(star_training_data, aes(x = integrated_profile_mean, y = dm_snr_curve_mean, \n",
    "                                        color = is_pulsar_star, shape = is_pulsar_star)) +\n",
    "    geom_point(alpha=0.5) +\n",
    "    labs(x = \"Mean Value from Integrated Profile\",\n",
    "         y = \"Mean Value from DM-SNR Curve\",\n",
    "         color = \"Pulsar Star?\") +\n",
    "    ggtitle(\"Figure 1. Pulsar Candidate DM-SNR  vs Integrated Profile Mean\") +\n",
    "    scale_color_manual(name = \"Is Pulsar Star?\",\n",
    "                       labels = c(\"No\", \"Yes\"), \n",
    "                       values = c(\"orange2\", \"steelblue2\"))+\n",
    "    scale_shape_manual(name = \"Is Pulsar Star?\",\n",
    "                       labels = c(\"No\", \"Yes\"), \n",
    "                       values = c(19, 17))+\n",
    "    theme(text = element_text(size = 15))"
   ]
  },
  {
   "cell_type": "markdown",
   "id": "3cf03427-1a66-42bd-91c8-88b9399e6c36",
   "metadata": {},
   "source": [
    "Skewness of Integrated Profile verses skewness of DM-SNR Curve plotted in scatterplot:"
   ]
  },
  {
   "cell_type": "code",
   "execution_count": null,
   "id": "c3a5a483-4e80-4188-ba4a-816d5d580d9d",
   "metadata": {},
   "outputs": [],
   "source": [
    "plot_2 <- ggplot(star_training_data, aes(x = integrated_profile_skewness, y = dm_snr_curve_skewness,\n",
    "                         color = is_pulsar_star, shape = is_pulsar_star)) +\n",
    "    geom_point(alpha=0.3) +\n",
    "    labs(x = \"Integrated Profile Skewness\",\n",
    "         y = \"DM-SNR curve Skewness\",\n",
    "         color = \"Pulsar Star?\") +\n",
    "    ggtitle(\"Figure 2. Integrated Profile Skewness vs DM-SNR Curve Skewness\") +\n",
    "    scale_color_manual(name = \"Is Pulsar Star?\",\n",
    "                       labels = c(\"No\", \"Yes\"), \n",
    "                       values = c(\"orange2\", \"steelblue2\"))+\n",
    "    scale_shape_manual(name = \"Is Pulsar Star?\",\n",
    "                       labels = c(\"No\", \"Yes\"), \n",
    "                       values = c(19, 17))+\n",
    "    theme(text = element_text(size = 15))\n"
   ]
  },
  {
   "cell_type": "markdown",
   "id": "3038fb0d-1b77-41bf-bca6-ca59c80d0a16",
   "metadata": {},
   "source": [
    "Standard deviation of Integrated Profile verses Standard Deviation of SM-SNR Curve plotted in scatterplot:"
   ]
  },
  {
   "cell_type": "code",
   "execution_count": null,
   "id": "7b01507c-e126-4c4a-9ad4-efaedd4edfc3",
   "metadata": {},
   "outputs": [],
   "source": [
    "plot_3 <- ggplot(star_training_data, aes(x = integrated_profile_st_dev, y = dm_snr_curve_st_dev,\n",
    "                         color = is_pulsar_star, shape = is_pulsar_star)) +\n",
    "    geom_point(alpha=0.3) +\n",
    "    labs(x = \"Integrated Profile Standard Deviation\",\n",
    "         y = \"DM-SNR curve Standard Deviation\",\n",
    "         color = \"Pulsar Star?\") +\n",
    "    ggtitle(\"Figure 3. DM-SNR curve Standard Deviation vs Integrated Profile Standard Deviation\") +\n",
    "    scale_color_manual(name = \"Is Pulsar Star?\",\n",
    "                       labels = c(\"No\", \"Yes\"), \n",
    "                       values = c(\"orange2\", \"steelblue2\"))+\n",
    "    scale_shape_manual(name = \"Is Pulsar Star?\",\n",
    "                       labels = c(\"No\", \"Yes\"), \n",
    "                       values = c(19, 17))+\n",
    "    theme(text = element_text(size = 15))\n"
   ]
  },
  {
   "cell_type": "markdown",
   "id": "208dbd5e-5204-4c4a-a297-a6cff875640e",
   "metadata": {},
   "source": [
    "Excess kurtosis of Integrated Profile verses excess kurtosis of DM-SNR curve plotted in scatterplot:"
   ]
  },
  {
   "cell_type": "code",
   "execution_count": null,
   "id": "29a0f884-8c11-4fc6-ab8c-65c35b843029",
   "metadata": {},
   "outputs": [],
   "source": [
    "plot_4 <- ggplot(star_training_data, aes(x = integrated_profile_excess_kurtosis, y = dm_snr_curve_excess_kurtosis,\n",
    "                         color = is_pulsar_star, shape = is_pulsar_star)) +\n",
    "    geom_point(alpha=0.3) +\n",
    "    labs(x = \"Integrated Profile Excess Kurtosis\",\n",
    "         y = \"DM-SNR curve Excess Kurtosis\") +\n",
    "    ggtitle(\"Figure 4. DM-SNR curve Excess Kurtosis vs Integrated Profile Excess Kurtosis\") +\n",
    "    scale_color_manual(name = \"Is Pulsar Star?\",\n",
    "                       labels = c(\"No\", \"Yes\"), \n",
    "                       values = c(\"orange2\", \"steelblue2\"))+\n",
    "    scale_shape_manual(name = \"Is Pulsar Star?\",\n",
    "                       labels = c(\"No\", \"Yes\"), \n",
    "                       values = c(19, 17))+\n",
    "    theme(text = element_text(size = 15))"
   ]
  },
  {
   "cell_type": "markdown",
   "id": "01620814-c148-4d4a-98b8-54835156791a",
   "metadata": {},
   "source": [
    "Putting plots together so they can be compared easily."
   ]
  },
  {
   "cell_type": "code",
   "execution_count": null,
   "id": "58aca81a-ece9-49dd-a559-9c4b3a45e655",
   "metadata": {},
   "outputs": [],
   "source": [
    "plot_grid(plot_1,plot_2,plot_3,plot_4)"
   ]
  },
  {
   "cell_type": "markdown",
   "id": "75bd882e-a3b2-4e2d-a26c-106a3d0e2833",
   "metadata": {},
   "source": [
    "In Figure 1, we saw that a larger number of pulsar star observations fell in the lower right-hand section of the plot area while non-pulsar stars were more spread out in the left-hand area; we concluded pulsar stars had a greater mean value for the integrated profile than non-pulsar stars. In Figure 2, we saw that pulsar stars typically fell in the left-hand section and occupied a greater height than the non-pulsar stars which were quite spread out length-wise in the right-hand section of the plot area; we concluded pulsar stars had a smaller integrated profile skewness and a larger skewness in the DM-SNR curve than non-pulsar stars. In Figure 3, a majority of the pulsar star observations were in the bottom of the plot area while the non-pulsar stars were in the upper-left hand side of the plot area; we concluded that pulsar stars had overall a larger standard deviation in the integrated profile and smaller standard deviation in the DM-SNR curve than non-pulsar stars. In Figure 4, a majority of the pulsar star observations were in the left-hand section and reached a greater height compared to non-pulsar stars which were spread out in the right-hand side of the plot area; we concluded that pulsar stars have smaller excess kurtosis in the integrated profile and greater excess kurtosis in the DM-SNR curve that non-pulsar stars."
   ]
  },
  {
   "cell_type": "markdown",
   "id": "73312cdf-442f-44d0-8708-ff216fee233e",
   "metadata": {},
   "source": [
    "We standardise the data using the `mutate` and `scale` function so each variable had an equal contribution when building the classifier. Scaling our variables was especially important for our training data as variables, such as the integrated profile mean, were much larger than variables, such as the integrated profile excess kurtosis. "
   ]
  },
  {
   "cell_type": "code",
   "execution_count": null,
   "id": "d7838e4b-680f-45b9-a189-4b6003604c40",
   "metadata": {},
   "outputs": [],
   "source": [
    "star_data_standardized <- star_training_data |>\n",
    "    mutate(integrated_profile_mean = scale(integrated_profile_mean, center = TRUE),\n",
    "           integrated_profile_st_dev = scale(integrated_profile_st_dev, center = TRUE),\n",
    "           integrated_profile_excess_kurtosis = scale(integrated_profile_excess_kurtosis, center = TRUE),\n",
    "           integrated_profile_skewness = scale(integrated_profile_skewness, center = TRUE),\n",
    "           dm_snr_curve_mean = scale(dm_snr_curve_mean, center = TRUE),\n",
    "           dm_snr_curve_st_dev = scale (dm_snr_curve_st_dev, center = TRUE),\n",
    "           dm_snr_curve_excess_kurtosis = scale(dm_snr_curve_excess_kurtosis, center = TRUE),\n",
    "           dm_snr_curve_skewness = scale(dm_snr_curve_skewness, center = TRUE))\n",
    "\n",
    "sample_n(star_data_standardized, 5)"
   ]
  },
  {
   "cell_type": "markdown",
   "id": "da084c5e-82fe-4779-8682-98f29d40a21c",
   "metadata": {},
   "source": [
    "_Table 8: The first 5 rows of the standardized training data_"
   ]
  },
  {
   "cell_type": "markdown",
   "id": "afe21dca-dcce-453c-a94e-89f8c6ece47a",
   "metadata": {},
   "source": [
    "We used the `group_by` and `summarize` functions to show the mean values for pulsar and non-pulsar stars for each variable. We could better compare the characteristics of pulsar and non-pulsar stars when the data was standardized."
   ]
  },
  {
   "cell_type": "code",
   "execution_count": null,
   "id": "efa699b4-bb19-452e-9377-85a23d706bd8",
   "metadata": {},
   "outputs": [],
   "source": [
    "star_means_table_standardized <- star_data_standardized |>\n",
    "    group_by(is_pulsar_star)|>\n",
    "    summarize(across(integrated_profile_mean:dm_snr_curve_skewness, mean))\n",
    "star_means_table_standardized"
   ]
  },
  {
   "cell_type": "markdown",
   "id": "237fd875-b39d-4e3e-956f-f07e640245ee",
   "metadata": {},
   "source": [
    "_Table 9: Calculated mean of every column in standardized training set, grouped by non-pulsar and pulsar_"
   ]
  },
  {
   "cell_type": "markdown",
   "id": "b8a4eab5-0994-4f69-85ff-2cef3f6530fe",
   "metadata": {},
   "source": [
    "We then calculated the maximum of every column in standardised training set, grouped by non-pulsar and pulsar with `group_by` and `summarize`."
   ]
  },
  {
   "cell_type": "code",
   "execution_count": null,
   "id": "94b9da4f-8c44-478d-b9bd-6aa1ddf250d5",
   "metadata": {},
   "outputs": [],
   "source": [
    "star_max_table_standardized <- star_data_standardized |>\n",
    "    group_by(is_pulsar_star)|>\n",
    "    summarize(across(integrated_profile_mean:dm_snr_curve_skewness, max))\n",
    "star_max_table_standardized"
   ]
  },
  {
   "cell_type": "markdown",
   "id": "026aada1-8e8f-4660-95ed-ab6ffbe1492f",
   "metadata": {},
   "source": [
    "_Table 10: Maximum of standardised training set across columns, grouped by non-pulsar and pulsar_"
   ]
  },
  {
   "cell_type": "markdown",
   "id": "1634d300-19f0-47cd-92bf-8bc17034b4f0",
   "metadata": {},
   "source": [
    "Finally, we calculated variance of every column in standardised training set, grouped by non-pulsar and pulsar with `group_by` and `summarize`.."
   ]
  },
  {
   "cell_type": "code",
   "execution_count": null,
   "id": "360458e3-1518-465e-85b9-857ee2d8de8d",
   "metadata": {},
   "outputs": [],
   "source": [
    "star_means_table_standardized <- star_data_standardized |>\n",
    "    group_by(is_pulsar_star)|>\n",
    "    summarize(across(integrated_profile_mean:dm_snr_curve_skewness, var))\n",
    "star_means_table_standardized"
   ]
  },
  {
   "cell_type": "markdown",
   "id": "ba23be47-6291-45eb-957b-64c1fd10c80c",
   "metadata": {},
   "source": [
    "_Table 11: Variance of standardised training set across columns, grouped by non-pulsar and pulsar_"
   ]
  },
  {
   "cell_type": "markdown",
   "id": "b95a0024-fd8e-49ec-a77b-3270b9365363",
   "metadata": {},
   "source": [
    "# Methods"
   ]
  },
  {
   "cell_type": "markdown",
   "id": "0b174415-4a42-41d4-b466-e5ce1c7ac074",
   "metadata": {},
   "source": [
    "Classification can be used to successfully determine whether data from a candidate pulsar star is indeed indicative of a true pulsar star. We chose classification, as the pulsar star data provided 2 classes, 0 and 1, indicating a pulsar star, or a false candidate. This fits in with the definition of a classification model; “predicting a categorical class (sometimes called a label) for an observation given its other variables (sometimes called features)” (Timbers, 2022).\n",
    "In our project, the categorical class is “negative”(0) for false candidates, and “positive”(1) for true candidates – pulsar stars. The variables in our project include (8 variables). \n",
    "\n",
    "We will be using all the variables/columns because in Robert James Lyon's thesis, the features of the integrated profile and the DM-SNR curve are all crucial in determining pulsar stars from candidates (Lyon, 2016). We will conduct our data analysis using a standardized training and testing data set, perform cross validation, and pick the best K value by creating a Accuracy Estimate vs. Neighbors plot. We will visualize our data using a confusion matrix plot to allow us to determine the training data's accuracy in predicting pulsar candidates from the test data."
   ]
  },
  {
   "cell_type": "markdown",
   "id": "59779148-e2ef-4da1-b02d-25ceefc52f37",
   "metadata": {},
   "source": [
    "We notice the training set was not balanced as there were more non-pulsar stars than pulsar stars; if left without balancing, our classifier would be skewered to more likely predict non-pulsar stars. We balanced the training set by oversampling pulsar star data – we added the `step_upsample` to our recipe, and we applied the `prep` and `bake` functions to apply the recipe to the training data."
   ]
  },
  {
   "cell_type": "code",
   "execution_count": null,
   "id": "76d32c37-bbf6-49d5-85fb-c3bd59de8b63",
   "metadata": {},
   "outputs": [],
   "source": [
    "star_ups_recipe <- recipe(is_pulsar_star~., data = star_training_data)|>\n",
    "    step_upsample(is_pulsar_star, over_ratio = 1, skip = FALSE)|>\n",
    "    prep()\n",
    "\n",
    "star_training_data <- bake(star_ups_recipe, star_training_data)\n",
    "\n",
    "star_training_data |>\n",
    "  group_by(is_pulsar_star) |>\n",
    "  summarize(n = n())"
   ]
  },
  {
   "cell_type": "markdown",
   "id": "8317c4b3-9165-48f4-8477-e0b1f2c16291",
   "metadata": {},
   "source": [
    "_Table 12: Number of pulsar and non-pulsar stars after balancing the training data_"
   ]
  },
  {
   "cell_type": "markdown",
   "id": "0993df8d-9a78-4a7d-bbd1-784d4fa88c28",
   "metadata": {},
   "source": [
    "We make the recipe and center and scale the recipe, using `step_scale` and `step_center` respectively, for tuning to the best K value. The K value is the number of neighbouring observations that our classifier considers when making a prediction, and so we tuned the model to find the optimal K value."
   ]
  },
  {
   "cell_type": "code",
   "execution_count": null,
   "id": "229cad0e-bffe-4b17-8c4b-210ea58b8e7d",
   "metadata": {},
   "outputs": [],
   "source": [
    "star_recipe <- recipe(is_pulsar_star ~., data = star_training_data)|>\n",
    "    step_scale(all_predictors())|>\n",
    "    step_center(all_predictors())"
   ]
  },
  {
   "cell_type": "markdown",
   "id": "100572bd-d08a-4b64-b5cc-b0f500ee2832",
   "metadata": {},
   "source": [
    "To find the most desired K value, we used cross-validation, using the function `vfold_cv` to take the average of several classifiers made from V-folds of the training data. Using cross-validation decreases the influence of a unlucky data being selected for the validation set, as compared to if the data was only split once. Although splitting the data into more folds will be more accurate, we chose 5 folds as our computers were unable to handle greater folds. It has also been seen having more than 5 folds may only have an insignificant effect on the accuracy. We specified the model, inputting `neighbors = tune()` to evaluate the accuracies from a range of different K values. In `gridvals`, we specified the parameter for K to go from 1 to 100 by 5. In our `workflow`, we used `tune_grid` function to fit the model in each value in our range of K values."
   ]
  },
  {
   "cell_type": "code",
   "execution_count": null,
   "id": "5b3d7e56-adf6-43e4-9b44-f6475fcea332",
   "metadata": {},
   "outputs": [],
   "source": [
    "star_vfold <- vfold_cv(star_training_data, v = 5, strat = is_pulsar_star)\n",
    "\n",
    "knn_tune <- nearest_neighbor(weight_func = \"rectangular\", neighbors = tune())|>\n",
    "    set_engine(\"kknn\")|>\n",
    "    set_mode(\"classification\")\n",
    "\n",
    "gridvals = tibble(neighbors = seq(from = 1, to = 100, by = 5))\n",
    "\n",
    "knn_results <- workflow() |>\n",
    "  add_recipe(star_recipe) |>\n",
    "  add_model(knn_tune) |>\n",
    "  tune_grid(resamples = star_vfold, grid = gridvals) |>\n",
    "  collect_metrics() |>\n",
    "  filter(.metric == \"accuracy\")"
   ]
  },
  {
   "cell_type": "markdown",
   "id": "49cec903-c96d-49e2-a858-e1357a578bae",
   "metadata": {},
   "source": [
    "Using `knn_results` we plotted estimated accuracies against k-values using the `ggplot` function, and used `geom_line` to find the optimal K value."
   ]
  },
  {
   "cell_type": "code",
   "execution_count": null,
   "id": "b5a9d3ff-c692-447f-92c1-250ab154c9b0",
   "metadata": {},
   "outputs": [],
   "source": [
    "cross_val_plot <- knn_results |> \n",
    "    ggplot(aes(x = neighbors, y = mean)) +\n",
    "    geom_point() +\n",
    "    geom_line() +\n",
    "    labs(x = \"Neighbors\", y = \"Accuracy Estimate\") +\n",
    "    ggtitle(\"Figure 5: Accuracy Estimate vs. K\") +\n",
    "    theme(text = element_text(size = 20))\n",
    "cross_val_plot"
   ]
  },
  {
   "cell_type": "markdown",
   "id": "1b4560bd-7148-4b79-a39a-5f4252cbfb7f",
   "metadata": {},
   "source": [
    "We see that a number close to zero has the highest accuracy, and as K values increase, the accuracy decreases. If K was equal to 1, there would be overfitting, and picking K to be 2 would result in our classifier not having a tie-breaker; thus, K equal to 3 was the most suitable. "
   ]
  },
  {
   "cell_type": "markdown",
   "id": "ee2bb8d5-b1ae-4a81-bebb-f93a11adc898",
   "metadata": {},
   "source": [
    "Using our K value of 3, we made a new model specification and retrained the model using the `fit()` function. "
   ]
  },
  {
   "cell_type": "code",
   "execution_count": null,
   "id": "da3eedc9-4334-4030-a4ef-2238f62e4d92",
   "metadata": {},
   "outputs": [],
   "source": [
    "best_k <- 3\n",
    "\n",
    "knn_spec <- nearest_neighbor(weight_func = \"rectangular\", neighbors = best_k)|>\n",
    "    set_engine(\"kknn\")|>\n",
    "    set_mode(\"classification\")\n",
    "\n",
    "knn_fit <- workflow()|>\n",
    "    add_recipe(star_recipe)|>\n",
    "    add_model(knn_spec)|>\n",
    "    fit(data = star_training_data)\n"
   ]
  },
  {
   "cell_type": "markdown",
   "id": "161aff91-bb22-487b-a002-e9304a251502",
   "metadata": {},
   "source": [
    "We used `predict()` function to have our classifier make predictions for our test set. We evaluated the accuracy of our classification model using the `metrics()` function. The accuracy of the model was 97%, which is greater than the 91% that the majority classifier would have produced. We also used `conf_mat()` to create a confusion matrix."
   ]
  },
  {
   "cell_type": "code",
   "execution_count": null,
   "id": "12e0fb05-92d0-4304-8da9-6cf2dac585cf",
   "metadata": {},
   "outputs": [],
   "source": [
    "star_predictions <- predict(knn_fit, star_testing_data)|>\n",
    "    bind_cols(star_testing_data)\n",
    "\n",
    "accuracy <- star_predictions |> \n",
    "    metrics(truth = is_pulsar_star, estimate = .pred_class) |> \n",
    "    select(.metric, .estimate) |> \n",
    "    head(1)\n",
    "accuracy\n",
    "\n",
    "star_confusion_matrix <- star_predictions |> \n",
    "    conf_mat(truth = is_pulsar_star, estimate = .pred_class)"
   ]
  },
  {
   "cell_type": "markdown",
   "id": "17292d2c-5ab8-4de0-8a8d-9c66261ad05f",
   "metadata": {},
   "source": [
    "_Table 13: Accuracy of final classification model_"
   ]
  },
  {
   "cell_type": "markdown",
   "id": "402ae6a7-e96a-4624-8367-77e86438e4a6",
   "metadata": {},
   "source": [
    "As the accuracy seemed suspiciously high, we decided to create a confusion matrix plot to visualize the proportion of correct predictions for predicted pulsar stars versus non-pulsar. We first started with `as.data.frame` and `factor` to prepare the numbers for the plot (QuantizerQuantizer, 1967). "
   ]
  },
  {
   "cell_type": "markdown",
   "id": "757e9290-3f10-4397-92aa-5e671256f955",
   "metadata": {},
   "source": [
    "Note: We did try creating a colored prediction map visualization, but that was not possible due to the number of variables we have"
   ]
  },
  {
   "cell_type": "code",
   "execution_count": null,
   "id": "b571d4e6-ac5e-43cc-b712-94c7a85b3e9c",
   "metadata": {},
   "outputs": [],
   "source": [
    "predictions <- star_predictions|> \n",
    "    select(.pred_class, is_pulsar_star)\n",
    "\n",
    "for_show1 <- as.data.frame(table(predictions$.pred_class, predictions$is_pulsar_star))\n",
    "for_show1$Var1 <- factor(for_show1$Var1, rev(levels(for_show1$Var2)))\n",
    "fill1 <- tibble(fill = as_factor(seq(from=1,to=4,by=1)))\n",
    "\n",
    "for_show1  <- bind_cols(for_show1,fill1)"
   ]
  },
  {
   "cell_type": "markdown",
   "id": "d8993ccc-f82e-4b1c-b890-aa7f1265db8c",
   "metadata": {},
   "source": [
    "We created a tile plot describing the confusion matrix plot using `ggplot` and `geom_tile` (QuantizerQuantizer, 1967)."
   ]
  },
  {
   "cell_type": "code",
   "execution_count": null,
   "id": "8e475849-65b7-44b6-92b3-1dfd947cde55",
   "metadata": {},
   "outputs": [],
   "source": [
    "options(repr.plot.width = 12, repr.plot.height = 10)\n",
    "update_geom_defaults(\"text\", list(size = 10))\n",
    "\n",
    "conf_mat_vis1<- for_show1|>\n",
    "  ggplot(aes(x=Var2,y=Var1, fill = fill)) +\n",
    "  geom_tile() +\n",
    "  geom_text(aes(label = Freq)) +\n",
    "  scale_fill_manual(values = c(\"#fd8d3c\",\"#bdd7e7\",\"#ffffd4\",\"#2171b5\"),\n",
    "                   labels = c(\"Non-pulsar/Non-pulsar\", \"Pulsar/Non-pulsar\", \n",
    "                              \"Non-pulsar/Pulsar\", \"Pulsar/Pulsar\")) +\n",
    "  labs(x = \"Is a pulsar star?\", y = \"Predicted pulsar star?\", title = \"Figure 6. Confusion matrix\",\n",
    "       fill = \"Prediction/True identity\") +\n",
    "  theme(plot.title = element_text(size = 18, hjust = 0.5, \n",
    "                                  margin = margin(20, 0, 20, 0)),\n",
    "        legend.title = element_text(size = 16, margin = margin(0, 20, 10, 0)),\n",
    "        axis.title.x = element_text(margin = margin(20, 20, 20, 20), size = 18),\n",
    "        axis.title.y = element_text(margin = margin(0, 20, 0, 10), size = 18),\n",
    "        text = element_text(size = 16))\n",
    "    "
   ]
  },
  {
   "cell_type": "markdown",
   "id": "63fbc314-b081-4c5c-b36b-a6376d6939b7",
   "metadata": {},
   "source": [
    "We made a data frame with percent accuracies for pulsar and non-pulsar predictions using `as.data.frame` and `factor` (QuantizerQuantizer, 1967)."
   ]
  },
  {
   "cell_type": "code",
   "execution_count": null,
   "id": "f8ecc87b-8cda-4c87-9bb1-7f438de51d30",
   "metadata": {},
   "outputs": [],
   "source": [
    "for_show2 <- as.data.frame(table(predictions$.pred_class, predictions$is_pulsar_star)/\n",
    "                       rowSums(table(predictions$.pred_class, predictions$is_pulsar_star)))\n",
    "for_show2$Var1 <- factor(for_show2$Var1, rev(levels(for_show2$Var2)))\n",
    "fill <- tibble(fill = as_factor(seq(from=1,to=4,by=1)))\n",
    "\n",
    "for_show2  <- bind_cols(for_show2,fill)"
   ]
  },
  {
   "cell_type": "markdown",
   "id": "236865d2-a078-4526-a86b-497ef6540625",
   "metadata": {},
   "source": [
    "We used `ggplot` and `geom_tile` to create plot of percent accuracies for pulsar and non-pulsar predictions (QuantizerQuantizer, 1967)."
   ]
  },
  {
   "cell_type": "code",
   "execution_count": null,
   "id": "bb006228-4160-41c9-af36-ce8d584cc32d",
   "metadata": {},
   "outputs": [],
   "source": [
    "options(repr.plot.width = 12, repr.plot.height = 10)\n",
    "\n",
    "conf_mat_vis2 <- for_show2|>\n",
    "  ggplot(aes(x=Var2,y=Var1, fill = fill)) +\n",
    "  geom_tile() +\n",
    "  geom_text(aes(label = scales::percent(Freq))) +\n",
    "  scale_fill_manual(values = c(\"#fd8d3c\",\"#bdd7e7\",\"#ffffd4\",\"#2171b5\"),\n",
    "                   labels = c(\"Non-pulsar/Non-pulsar\", \"Pulsar/Non-pulsar\", \n",
    "                              \"Non-pulsar/Pulsar\", \"Pulsar/Pulsar\")) +\n",
    "  labs(x = \"Is a pulsar star?\", y = \"Predicted pulsar star?\", title = \"Figure 7. Prediction Accuracy by star type\",\n",
    "       fill = \"Prediction/True identity\") +\n",
    "  theme(plot.title = element_text(size = 18, hjust = 0.5, \n",
    "                                  margin = margin(20, 0, 20, 0)),\n",
    "        legend.title = element_text(size = 16, margin = margin(0, 20, 10, 0)),\n",
    "        axis.title.x = element_text(margin = margin(20, 20, 20, 20), size = 18),\n",
    "        axis.title.y = element_text(margin = margin(0, 20, 0, 10), size = 18),\n",
    "        text = element_text(size = 16))\n"
   ]
  },
  {
   "cell_type": "markdown",
   "id": "d1fe98c2-0a61-4bed-81db-cd3d96ed0f1c",
   "metadata": {},
   "source": [
    "We used `plot_grid` to combine the confusion matrix visualization with visualization of percent accuracies by pulsar/non-pulsar star prediction."
   ]
  },
  {
   "cell_type": "code",
   "execution_count": null,
   "id": "fe7dc543-8668-4c0b-b895-2ac86b6e5bdf",
   "metadata": {},
   "outputs": [],
   "source": [
    "options(repr.plot.width = 20, repr.plot.height = 8)\n",
    "plot_grid(conf_mat_vis1,conf_mat_vis2)"
   ]
  },
  {
   "cell_type": "markdown",
   "id": "addbaa21-77c6-423b-b791-5bb324c9ce17",
   "metadata": {},
   "source": [
    "# Discussion"
   ]
  },
  {
   "cell_type": "markdown",
   "id": "bdcfcfd2-2a32-4762-b1c9-c18633fdd45c",
   "metadata": {},
   "source": [
    "**What we found**:\n",
    "\n",
    "From the confusion matrix plot, we found that 105 non-pulsar were incorrectly identified as pulsar stars, and 47 pulsar stars were incorrectly predicted non-pulsar stars. Overall, we found that our classification model trained by the H2RU2 data on pulsar star candidates is indeed successfully able to answer the question of  “Given an observed candidate pulsar star’s data, can we successfully and accurately determine if the presented candidate is a pulsar star?” because the accuracy was evaluated at 97%. However, it is notable that our predictions are less accurate when we predict an observation as a pulsar star (77% of predicted pulsars were true pulsars while 99% of predicted non-pulsars were non-pulsars). We think this difference is from the presence of more non-pulsar stars than pulsar stars. Since many observations are non-pulsars, any given observation is more likely to not be a pulsar. This accuracy can and should be improved to more accurately determine pulsar stars. Although the effects of a mis-classification does not present irreparable consequences, a more accurate model should be developed for determining pulsar stars, because mis-labelling a non-pulsar as a pulsar star or vice-versa may offset the work of researchers who use highly accurate mathematical calculations in their research. 99% accuracy in determining non-pulsar stars on the other hand, is quite significant and helpful in the field of astronomical research, as successfully determining non-pulsar stars still rules out the possibility of pulsar stars, providing meaningful information to researchers about possible candidates.\n",
    "\n",
    "**Was this what we expected to find?**:\n",
    "\n",
    "We did expect to find this level of accuracy based on our prior research. Use of all 8 variables was expected to train a good classification model as these 8 variables define and distinguish pulsar stars.\n",
    "\n",
    "\n",
    "**Possible Significance of Findings**:\n",
    "\n",
    "These findings could aid in exploration of the interstellar medium. Only ~2,000 pulsar stars have been discovered (Skelly, 2017), therefore any additional discoveries would be of significant impact in the field of astronomy. Further discoveries of pulsar stars could lead to analysis of their sizes and masses, providing researchers with the necessary data to understand pulsar star behaviours and interactions which are not presently well understood due to extreme pressure and density conditions (Skelly, 2017). \n",
    "\n",
    "\n",
    "**Future questions this could lead to:**\n",
    "\n",
    "    - How old are the pulsar stars found?\n",
    "    - How can precise measurements of the pulsar stars sizes and masses be determined?\n",
    "    - Are there areas of the galaxy where more pular stars are found?\n"
   ]
  },
  {
   "cell_type": "markdown",
   "id": "4d08a528-a51e-46fb-a409-04b8cca6b8ef",
   "metadata": {},
   "source": [
    "### Sources\n",
    "\n",
    "Keith, M. J., Jameson, A., van Straten, W., Bailes, M., Johnston, S., Kramer, M., Possenti, A., Bates, S. D., Bhat, N. D. R., Burgay, M., Burke-Spolaor, S., D'Amico, N., Levin, L., McMahon, P. L., Milia, S., Stappers, B. W. (2010). The High Time Resolution Universe Pulsar Survey – I. System configuration and initial discoveries. _Monthly Notices of the Royal Astronomical Society, 409(2)_, 619–627. https://doi.org/10.1111/j.1365-2966.2010.17325.x\n",
    "\n",
    "Liu, K. (n.d.). West Virginia University. http://ipta.phys.wvu.edu/files/student-week-2017/IPTA2017_KuoLiu_pulsartiming.pdf\n",
    "\n",
    "Lyon, R. J.(2016). Why are Pulsars Hard to Find [Doctoral Dissertation, University of Manchester]. https://www.escholar.manchester.ac.uk/api/datastream?publicationPid=uk-ac-man-scw:305203&datastreamId=FULL-TEXT.PDF\n",
    "\n",
    "Pulsar dispersion measure: Cosmos. Pulsar Dispersion Measure | COSMOS. (n.d.). https://astronomy.swin.edu.au/cosmos/p/pulsar+dispersion+measure#:~:text=In%20pulsar%20astronomy%20a%20handy,an%20observer%20and%20a%20pulsar%E2%80%9D.\n",
    "\n",
    "QuantizerQuantizer 27533 silver badges1212 bronze badges, & Allan CameronAllan Cameron 136k77 gold badges4040 silver badges7777 bronze badges. (1967). Plot a confusion matrix in R showing percentages (ggplot). _Stack Overflow_. https://stackoverflow.com/questions/65253809/plot-a-confusion-matrix-in-r-showing-percentages-ggplot\n",
    "\n",
    "Skelly, C. (2017). NASA Continues to Study Pulsars, 50 Years After Their Chance Discovery. _NASA_. https://www.nasa.gov/feature/goddard/2017/nasa-continues-to-study-pulsars-50-years-after-their-chance-discovery\n",
    "\n",
    "Timbers, Tiffany. T. C. (2022). Data science. Chapter 6 Classification II: evaluation & tuning. https://datasciencebook.ca/classification2.html\n",
    "\n",
    "Wilke, C. O. (2020). Introduction to cowplot. https://cran.r-project.org/web/packages/cowplot/vignettes/introduction.html "
   ]
  }
 ],
 "metadata": {
  "kernelspec": {
   "display_name": "R",
   "language": "R",
   "name": "ir"
  },
  "language_info": {
   "codemirror_mode": "r",
   "file_extension": ".r",
   "mimetype": "text/x-r-source",
   "name": "R",
   "pygments_lexer": "r",
   "version": "4.1.3"
  }
 },
 "nbformat": 4,
 "nbformat_minor": 5
}
